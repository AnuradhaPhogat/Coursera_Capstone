{
 "cells": [
  {
   "cell_type": "markdown",
   "metadata": {
    "collapsed": true
   },
   "source": [
    "## Battle Of Neighborhood\n",
    "### Brooklyn,New York\n",
    "\n",
    "## Data\n",
    "### Dataset to analyze the neighborhood will be extracted from a JSON file https://ibm.box.com/shared/static/fbpwbovar7lf8p5sgddm06cgipa2rxpe.json which consist of data for all neighborhoods within New York.  \n",
    "### For this project we will be focusing of extracting the data for the Brooklyn borough . Python Pandas library will used to achieve this. \n",
    "### Once the data is extracted, we will be leveraging Foursquare API https://developer.foursquare.com/ to find the venues within the neighborhood in Brooklyn \n",
    "### To study the population distribution among Brooklyn neighborhoods data will be extracted doing web scrapping on the data available at this link https://www.worldatlas.com/articles/brooklyn-neighborhoods-by-population.html "
   ]
  },
  {
   "cell_type": "code",
   "execution_count": null,
   "metadata": {},
   "outputs": [],
   "source": []
  }
 ],
 "metadata": {
  "kernelspec": {
   "display_name": "Python 3.5",
   "language": "python",
   "name": "python3"
  },
  "language_info": {
   "codemirror_mode": {
    "name": "ipython",
    "version": 3
   },
   "file_extension": ".py",
   "mimetype": "text/x-python",
   "name": "python",
   "nbconvert_exporter": "python",
   "pygments_lexer": "ipython3",
   "version": "3.5.5"
  }
 },
 "nbformat": 4,
 "nbformat_minor": 1
}
