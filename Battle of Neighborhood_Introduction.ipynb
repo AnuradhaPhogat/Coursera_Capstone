{
 "cells": [
  {
   "cell_type": "markdown",
   "metadata": {
    "collapsed": true
   },
   "source": [
    "# Battle of Neighborhood\n",
    "### Brooklyn,New York\n",
    "\n",
    "## Introduction \n",
    "### Setting up a new business is always challenging ask, especially when the area where we plan to setup a new venture is new and unexplored. One of such business is opening a new restaurant where understanding the demographic of the area, population density, current competition, feasibility and demand analysis is very important. Above all choosing the right location is of prime importance so below mentioned key points should be analyzed before finalizing the restaurant's location. \n",
    "### * A location with already existing restaurants with good turnover of customers like malls, shopping areas and movie theaters can be a probable location. \n",
    "### * A location where there is room and opportunity to explore and less competition \n",
    "### * A location which is close to prominent neighborhoods with a good influx of customers \n",
    "### Goal of this project is to explore a different neighborhood of Brooklyn, NY by analyzing population density and number of existing restaurants among the neighborhoods to suggest most suitable  location to open a new Asian restaurant. Additionally this project will serve as a guide for any newcomer in Brooklyn, NY and assist in exploring the neighborhood as a whole. "
   ]
  },
  {
   "cell_type": "code",
   "execution_count": null,
   "metadata": {},
   "outputs": [],
   "source": []
  }
 ],
 "metadata": {
  "kernelspec": {
   "display_name": "Python 3.5",
   "language": "python",
   "name": "python3"
  },
  "language_info": {
   "codemirror_mode": {
    "name": "ipython",
    "version": 3
   },
   "file_extension": ".py",
   "mimetype": "text/x-python",
   "name": "python",
   "nbconvert_exporter": "python",
   "pygments_lexer": "ipython3",
   "version": "3.5.5"
  }
 },
 "nbformat": 4,
 "nbformat_minor": 1
}
